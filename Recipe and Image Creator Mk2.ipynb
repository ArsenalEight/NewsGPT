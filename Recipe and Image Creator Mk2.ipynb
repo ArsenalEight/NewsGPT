{
 "cells": [
  {
   "cell_type": "code",
   "execution_count": 1,
   "id": "9692fc08",
   "metadata": {},
   "outputs": [],
   "source": [
    "import os"
   ]
  },
  {
   "cell_type": "code",
   "execution_count": null,
   "id": "30c28714",
   "metadata": {},
   "outputs": [],
   "source": [
    "import openai"
   ]
  },
  {
   "cell_type": "code",
   "execution_count": 3,
   "id": "5315131a",
   "metadata": {},
   "outputs": [],
   "source": [
    "#go to open AI and get a free api key and put it here\n",
    "openai.api_key = 'PUT YOUR API KEY HERE'"
   ]
  },
  {
   "cell_type": "code",
   "execution_count": 4,
   "id": "d0f59714",
   "metadata": {},
   "outputs": [],
   "source": [
    "def create_dish_prompt(list_of_ingredients):\n",
    "    prompt = f\" Create a detailed recipe based on only the following indredients, however assume the user has basic ingredients like salt, sugar, water, butter, flour: {', '.join(list_of_ingredients)}.\\n\"\\\n",
    "    +f\"Additionally, assign a title starting with 'Recipe Title: ' to this recipe.\"\n",
    "    return prompt"
   ]
  },
  {
   "cell_type": "code",
   "execution_count": 5,
   "id": "0fd2353b",
   "metadata": {},
   "outputs": [],
   "source": [
    "#put you ingredients here\n",
    "recipe = create_dish_prompt(['ham','turkey','eggs','bread'])"
   ]
  },
  {
   "cell_type": "code",
   "execution_count": 6,
   "id": "cd075883",
   "metadata": {},
   "outputs": [],
   "source": [
    "i = ['eggs', 'bacon', 'bread']"
   ]
  },
  {
   "cell_type": "code",
   "execution_count": 7,
   "id": "f3a318fb",
   "metadata": {},
   "outputs": [
    {
     "data": {
      "text/plain": [
       "'eggs, bacon, bread'"
      ]
     },
     "execution_count": 7,
     "metadata": {},
     "output_type": "execute_result"
    }
   ],
   "source": [
    "', '.join(i)"
   ]
  },
  {
   "cell_type": "code",
   "execution_count": 8,
   "id": "5a77db80",
   "metadata": {},
   "outputs": [],
   "source": [
    "response = openai.Completion.create(engine='text-davinci-003',\n",
    "                                    prompt= recipe,\n",
    "                                   max_tokens=512,\n",
    "                                   temperature=0.7)"
   ]
  },
  {
   "cell_type": "code",
   "execution_count": 9,
   "id": "1b6443d0",
   "metadata": {},
   "outputs": [
    {
     "name": "stdout",
     "output_type": "stream",
     "text": [
      "\n",
      "\n",
      "Recipe Title: Ham and Turkey Egg Sandwiches\n",
      "\n",
      "Ingredients:\n",
      "- 4 slices of bread\n",
      "- 2 slices of ham\n",
      "- 2 slices of turkey\n",
      "- 2 eggs\n",
      "- 1 tbsp butter\n",
      "- Salt and pepper to taste\n",
      "\n",
      "Instructions:\n",
      "1. Heat a medium-sized skillet over medium heat.\n",
      "2. Butter one side of each of the slices of bread.\n",
      "3. Place two slices of bread in the skillet, butter side down.\n",
      "4. Top each slice of bread with one slice of ham and one slice of turkey.\n",
      "5. Crack the eggs into a bowl, season with salt and pepper, and whisk together.\n",
      "6. Pour the eggs into the skillet, over the ham and turkey.\n",
      "7. Cook until the eggs are set and the bread is toasted, about 4 minutes.\n",
      "8. Flip the sandwiches and cook for an additional 4 minutes.\n",
      "9. Serve the sandwiches hot.\n"
     ]
    }
   ],
   "source": [
    "print(response['choices'][0]['text'])"
   ]
  },
  {
   "cell_type": "code",
   "execution_count": 10,
   "id": "75218ac0",
   "metadata": {},
   "outputs": [],
   "source": [
    "result_text = response ['choices'][0]['text']"
   ]
  },
  {
   "cell_type": "code",
   "execution_count": 11,
   "id": "854580b6",
   "metadata": {},
   "outputs": [],
   "source": [
    "import re"
   ]
  },
  {
   "cell_type": "code",
   "execution_count": 12,
   "id": "fb068feb",
   "metadata": {
    "scrolled": true
   },
   "outputs": [
    {
     "data": {
      "text/plain": [
       "['\\n\\n',\n",
       " 'Ham and Turkey Egg Sandwiches\\n\\nIngredients:\\n- 4 slices of bread\\n- 2 slices of ham\\n- 2 slices of turkey\\n- 2 eggs\\n- 1 tbsp butter\\n- Salt and pepper to taste\\n\\nInstructions:\\n1. Heat a medium-sized skillet over medium heat.\\n2. Butter one side of each of the slices of bread.\\n3. Place two slices of bread in the skillet, butter side down.\\n4. Top each slice of bread with one slice of ham and one slice of turkey.\\n5. Crack the eggs into a bowl, season with salt and pepper, and whisk together.\\n6. Pour the eggs into the skillet, over the ham and turkey.\\n7. Cook until the eggs are set and the bread is toasted, about 4 minutes.\\n8. Flip the sandwiches and cook for an additional 4 minutes.\\n9. Serve the sandwiches hot.']"
      ]
     },
     "execution_count": 12,
     "metadata": {},
     "output_type": "execute_result"
    }
   ],
   "source": [
    "result_text.split('Recipe Title: ')"
   ]
  },
  {
   "cell_type": "code",
   "execution_count": 13,
   "id": "8dd84aa6",
   "metadata": {},
   "outputs": [],
   "source": [
    "def extract_title(recipe):\n",
    "    return re.findall('^.*Recipe Title: .*$', recipe, re.MULTILINE)[0].strip().split('Recipe Title: ')[-1]"
   ]
  },
  {
   "cell_type": "code",
   "execution_count": 14,
   "id": "08798e2c",
   "metadata": {},
   "outputs": [],
   "source": [
    "recipe_title = extract_title(result_text)"
   ]
  },
  {
   "cell_type": "code",
   "execution_count": 15,
   "id": "5bbb39e9",
   "metadata": {},
   "outputs": [],
   "source": [
    "def dalle2_prompt(recipe_title):\n",
    "    prompt = f\"{recipe_title}, professional food photography, 15mm, studio lighting\"\n",
    "    return prompt"
   ]
  },
  {
   "cell_type": "code",
   "execution_count": 16,
   "id": "8ab59920",
   "metadata": {},
   "outputs": [
    {
     "data": {
      "text/plain": [
       "'Ham and Turkey Egg Sandwiches, professional food photography, 15mm, studio lighting'"
      ]
     },
     "execution_count": 16,
     "metadata": {},
     "output_type": "execute_result"
    }
   ],
   "source": [
    "dalle2_prompt(recipe_title)"
   ]
  },
  {
   "cell_type": "code",
   "execution_count": 17,
   "id": "9c25e610",
   "metadata": {},
   "outputs": [],
   "source": [
    "Image_response = openai.Image.create(\n",
    "            prompt=dalle2_prompt(result_text),\n",
    "            n=1,\n",
    "            size='1024x1024')"
   ]
  },
  {
   "cell_type": "code",
   "execution_count": 22,
   "id": "0047aeb7",
   "metadata": {},
   "outputs": [],
   "source": [
    "Image_response_url = Image_response['data'][0]['url']"
   ]
  },
  {
   "cell_type": "code",
   "execution_count": 23,
   "id": "f1cd1397",
   "metadata": {},
   "outputs": [],
   "source": [
    "image_url = Image_response ['data'][0]['url']"
   ]
  },
  {
   "cell_type": "code",
   "execution_count": 24,
   "id": "e87e3010",
   "metadata": {},
   "outputs": [],
   "source": [
    "import requests\n",
    "import shutil\n",
    "\n",
    "def save_image(image_url,file_name):\n",
    "    # URL --> pic.png\n",
    "    image_res = requests.get(image_url, stream=True)\n",
    "    if image_res.status_code == 200:\n",
    "        with open(file_name, 'wb') as f:\n",
    "            shutil.copyfileobj(image_res.raw, f)\n",
    "    else:\n",
    "        print('Error Loading Image')\n",
    "    return image_res.status_code\n"
   ]
  },
  {
   "cell_type": "code",
   "execution_count": 25,
   "id": "30ad705d",
   "metadata": {},
   "outputs": [
    {
     "data": {
      "text/plain": [
       "200"
      ]
     },
     "execution_count": 25,
     "metadata": {},
     "output_type": "execute_result"
    }
   ],
   "source": [
    "save_image(image_url, 'example_download.png')"
   ]
  },
  {
   "cell_type": "code",
   "execution_count": 26,
   "id": "d7be0771",
   "metadata": {},
   "outputs": [
    {
     "name": "stdout",
     "output_type": "stream",
     "text": [
      "C:\\Users\\socce\n"
     ]
    }
   ],
   "source": [
    "#where the photo of your food has been saved\n",
    "import os\n",
    "print(os.getcwd())\n"
   ]
  },
  {
   "cell_type": "code",
   "execution_count": null,
   "id": "e1beb92d",
   "metadata": {},
   "outputs": [],
   "source": []
  }
 ],
 "metadata": {
  "kernelspec": {
   "display_name": "Python 3 (ipykernel)",
   "language": "python",
   "name": "python3"
  },
  "language_info": {
   "codemirror_mode": {
    "name": "ipython",
    "version": 3
   },
   "file_extension": ".py",
   "mimetype": "text/x-python",
   "name": "python",
   "nbconvert_exporter": "python",
   "pygments_lexer": "ipython3",
   "version": "3.10.9"
  }
 },
 "nbformat": 4,
 "nbformat_minor": 5
}
